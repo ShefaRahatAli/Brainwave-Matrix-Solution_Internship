{
  "nbformat": 4,
  "nbformat_minor": 0,
  "metadata": {
    "colab": {
      "provenance": []
    },
    "kernelspec": {
      "name": "python3",
      "display_name": "Python 3"
    },
    "language_info": {
      "name": "python"
    }
  },
  "cells": [
    {
      "cell_type": "code",
      "execution_count": 2,
      "metadata": {
        "colab": {
          "base_uri": "https://localhost:8080/"
        },
        "id": "gNjMvuXHL1kV",
        "outputId": "6a95fcaf-cbd0-45c2-d6c0-f432f51556a0"
      },
      "outputs": [
        {
          "output_type": "stream",
          "name": "stdout",
          "text": [
            "✔ Notebook completely reset! Download 'TextToImageGeneration_Clean_No_Metadata.ipynb' from the sidebar.\n"
          ]
        }
      ],
      "source": [
        "import nbformat\n",
        "\n",
        "# Set the path to your notebook\n",
        "file_path = \"/content/TextToImageGeneration.ipynb\"\n",
        "\n",
        "# Load the notebook\n",
        "with open(file_path, \"r\", encoding=\"utf-8\") as f:\n",
        "    nb = nbformat.read(f, as_version=4)\n",
        "\n",
        "# Reset all metadata completely\n",
        "nb[\"metadata\"] = {}\n",
        "\n",
        "# Save the notebook with reset metadata\n",
        "cleaned_path = \"/content/TextToImageGeneration_Clean_No_Metadata.ipynb\"\n",
        "with open(cleaned_path, \"w\", encoding=\"utf-8\") as f:\n",
        "    nbformat.write(nb, f)\n",
        "\n",
        "print(\"✔ Notebook completely reset! Download 'TextToImageGeneration_Clean_No_Metadata.ipynb' from the sidebar.\")\n"
      ]
    }
  ]
}